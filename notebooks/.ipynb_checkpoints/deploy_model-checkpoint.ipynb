{
 "cells": [
  {
   "cell_type": "code",
   "execution_count": 72,
   "id": "d3882a1c",
   "metadata": {},
   "outputs": [
    {
     "name": "stdout",
     "output_type": "stream",
     "text": [
      "Ready to use Azure ML 1.28.0 to work with mlops\n"
     ]
    }
   ],
   "source": [
    "import azureml.core\n",
    "from azureml.core import Workspace\n",
    "\n",
    "# Load the workspace from the saved config file\n",
    "ws = Workspace.from_config()\n",
    "print('Ready to use Azure ML {} to work with {}'.format(azureml.core.VERSION, ws.name))"
   ]
  },
  {
   "cell_type": "code",
   "execution_count": 73,
   "id": "1ea9cd81",
   "metadata": {},
   "outputs": [
    {
     "name": "stdout",
     "output_type": "stream",
     "text": [
      "/mnt/batch/tasks/shared/LS_root/mounts/clusters/gpu-mlops/code/Users/s147056/image-restoration\n"
     ]
    }
   ],
   "source": [
    "import os\n",
    "from pathlib import Path\n",
    "\n",
    "# Get experiment folder\n",
    "experiment_folder = Path(os.getcwd()).parent\n",
    "print(experiment_folder)"
   ]
  },
  {
   "cell_type": "code",
   "execution_count": 74,
   "id": "de6448ec",
   "metadata": {},
   "outputs": [
    {
     "name": "stdout",
     "output_type": "stream",
     "text": [
      "image_resto version 3\n"
     ]
    }
   ],
   "source": [
    "model = ws.models['image_resto']\n",
    "print(model.name, 'version', model.version)"
   ]
  },
  {
   "cell_type": "markdown",
   "id": "c962de68",
   "metadata": {},
   "source": [
    "## Create yaml for env"
   ]
  },
  {
   "cell_type": "code",
   "execution_count": 75,
   "id": "d3cc7104",
   "metadata": {},
   "outputs": [
    {
     "name": "stdout",
     "output_type": "stream",
     "text": [
      "# Conda environment specification. The dependencies defined in this file will\n",
      "# be automatically provisioned for runs with userManagedDependencies=False.\n",
      "\n",
      "# Details about the Conda environment file format:\n",
      "# https://conda.io/docs/user-guide/tasks/manage-environments.html#create-env-file-manually\n",
      "\n",
      "name: project_environment\n",
      "dependencies:\n",
      "  # The python interpreter version.\n",
      "  # Currently Azure ML only supports 3.5.2 and later.\n",
      "- python=3.6.2\n",
      "\n",
      "- pip:\n",
      "    # Required packages for AzureML execution, history, and data preparation.\n",
      "  - azureml-defaults\n",
      "\n",
      "  - click\n",
      "  - Sphinx\n",
      "  - coverage\n",
      "  - awscli\n",
      "  - flake8\n",
      "  - python-dotenv>=0.5.1\n",
      "  - wandb\n",
      "  - pathlib2\n",
      "  - argparse\n",
      "  - torch\n",
      "  - torchvision\n",
      "  - opencv-python\n",
      "  - joblib\n",
      "  - -e git+https://github.com/heshe/image-restoration\n",
      "channels:\n",
      "- anaconda\n",
      "- conda-forge\n",
      "\n"
     ]
    }
   ],
   "source": [
    "from azureml.core.conda_dependencies import CondaDependencies \n",
    "\n",
    "# Print the .yml file\n",
    "env_file = os.path.join(experiment_folder, \"src\", \"deploy\", \"image_resto_env.yml\")\n",
    "with open(env_file,\"r\") as f:\n",
    "    print(f.read())         "
   ]
  },
  {
   "cell_type": "markdown",
   "id": "1aa0706e",
   "metadata": {},
   "source": [
    "## Deploy"
   ]
  },
  {
   "cell_type": "code",
   "execution_count": null,
   "id": "b9ecd69f",
   "metadata": {},
   "outputs": [
    {
     "name": "stdout",
     "output_type": "stream",
     "text": [
      "Tips: You can try get_logs(): https://aka.ms/debugimage#dockerlog or local deployment: https://aka.ms/debugimage#debug-locally to debug if deployment takes longer than 10 minutes.\n",
      "Running\n",
      "2021-06-16 09:07:41+00:00 Creating Container Registry if not exists.\n",
      "2021-06-16 09:07:42+00:00 Building image."
     ]
    }
   ],
   "source": [
    "from azureml.core.webservice import AciWebservice\n",
    "from azureml.core.model import InferenceConfig\n",
    "from azureml.core import Environment, Model\n",
    "\n",
    "env = Environment.from_pip_requirements('image_resto_env', os.path.join(experiment_folder, 'requirements.txt'))\n",
    "\n",
    "# Set path for scoring script\n",
    "script_file = os.path.join(experiment_folder, \"src\", \"deploy\", \"score.py\")\n",
    "\n",
    "# Configure the scoring environment\n",
    "inference_config = InferenceConfig(entry_script=script_file,\n",
    "                                   environment=env)\n",
    "\n",
    "\n",
    "\n",
    "deployment_config = AciWebservice.deploy_configuration(cpu_cores = 1, memory_gb = 1)\n",
    "\n",
    "service_name = \"image-reconstruction-service\"\n",
    "if service_name in ws.webservices:\n",
    "    ws.webservices[service_name].delete()\n",
    "\n",
    "\n",
    "service = Model.deploy(ws, service_name, [model], inference_config, deployment_config)\n",
    "\n",
    "service.wait_for_deployment(True)\n",
    "print(service.state)"
   ]
  },
  {
   "cell_type": "code",
   "execution_count": null,
   "id": "6a5cd599",
   "metadata": {},
   "outputs": [],
   "source": [
    "import json\n",
    "import torch\n",
    "import matplotlib.pyplot as plt\n",
    "\n",
    "x_new = torch.rand(1, 224, 224)*255\n",
    "\n",
    "# Convert the array to a serializable list in a JSON document\n",
    "input_json = json.dumps({\"data\": x_new})\n",
    "\n",
    "# Call the web service, passing the input data (the web service will also accept the data in binary format)\n",
    "reconstruction = service.run(input_data = input_json)\n",
    "\n",
    "# Get the predicted class - it'll be the first (and only) one.\n",
    "reconstruction = json.loads(reconstruction)\n",
    "\n",
    "%matplotlib inline\n",
    "\n",
    "type(reconstruction)"
   ]
  }
 ],
 "metadata": {
  "kernelspec": {
   "display_name": "Python 3.6 - AzureML",
   "language": "python",
   "name": "python3-azureml"
  },
  "language_info": {
   "codemirror_mode": {
    "name": "ipython",
    "version": 3
   },
   "file_extension": ".py",
   "mimetype": "text/x-python",
   "name": "python",
   "nbconvert_exporter": "python",
   "pygments_lexer": "ipython3",
   "version": "3.6.9"
  }
 },
 "nbformat": 4,
 "nbformat_minor": 5
}
